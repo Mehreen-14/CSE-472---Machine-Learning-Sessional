{
 "cells": [
  {
   "cell_type": "code",
   "execution_count": 11,
   "metadata": {},
   "outputs": [],
   "source": [
    "import numpy as np\n",
    "import matplotlib.pyplot as plt\n",
    "from scipy.special import factorial"
   ]
  },
  {
   "cell_type": "code",
   "execution_count": 12,
   "metadata": {},
   "outputs": [],
   "source": [
    "data = np.loadtxt('em_data.txt')"
   ]
  },
  {
   "cell_type": "code",
   "execution_count": 13,
   "metadata": {},
   "outputs": [],
   "source": [
    "def poisson_pmf(k, mu):\n",
    "    return (mu ** k) * np.exp(-mu) / factorial(k)"
   ]
  },
  {
   "cell_type": "markdown",
   "metadata": {},
   "source": [
    "EM Algorithm\n"
   ]
  },
  {
   "cell_type": "code",
   "execution_count": 14,
   "metadata": {},
   "outputs": [],
   "source": [
    "def em_algorithm(data, max_iter=1000, tol=1e-6):\n",
    "    # Initialization\n",
    "    mu_1 = np.random.rand()\n",
    "    mu_2 = np.random.rand()\n",
    "    #print('Initial mu_1:', mu_1)\n",
    "    #print('Initial mu_2:', mu_2)\n",
    "    pi_1 = 0.5\n",
    "    pi_2 = 0.5\n",
    "    \n",
    "    n = len(data)\n",
    "    \n",
    "    for iteration in range(max_iter):\n",
    "        # E-Step: Calculate responsibilities (probabilities)\n",
    "        resp_1 = pi_1 * poisson_pmf(data, mu_1)\n",
    "        resp_2 = pi_2 * poisson_pmf(data, mu_2)\n",
    "        \n",
    "        total_resp = resp_1 + resp_2\n",
    "        resp_1 /= total_resp\n",
    "        resp_2 /= total_resp\n",
    "        \n",
    "        # M-Step: Update parameters\n",
    "        mu_1_new = np.sum(resp_1 * data) / np.sum(resp_1)\n",
    "        mu_2_new = np.sum(resp_2 * data) / np.sum(resp_2)\n",
    "        pi_1_new = np.sum(resp_1) / n\n",
    "        pi_2_new = np.sum(resp_2) / n\n",
    "        #print(f'Iteration {iteration}: mu_1 = {mu_1_new:.2f}, mu_2 = {mu_2_new:.2f}, pi_1 = {pi_1_new:.2f}, pi_2 = {pi_2_new:.2f}')\n",
    "        \n",
    "        # Check for convergence\n",
    "        if np.abs(mu_1_new - mu_1) < tol and np.abs(mu_2_new - mu_2) < tol and \\\n",
    "           np.abs(pi_1_new - pi_1) < tol and np.abs(pi_2_new - pi_2) < tol:\n",
    "            #print(f\"Converged at iteration {iteration}\")\n",
    "            break\n",
    "        \n",
    "        # Update parameters\n",
    "        mu_1, mu_2, pi_1, pi_2 = mu_1_new, mu_2_new, pi_1_new, pi_2_new\n",
    "        \n",
    "    return mu_1, mu_2, pi_1, pi_2\n",
    "\n",
    "mu_1_new, mu_2_new, pi_1_new, pi_2_new = em_algorithm(data)"
   ]
  },
  {
   "cell_type": "code",
   "execution_count": 15,
   "metadata": {},
   "outputs": [
    {
     "name": "stdout",
     "output_type": "stream",
     "text": [
      "Estimated mean number of children for families with family planning: 1.7823566773426553\n",
      "Estimated mean number of children for families without family planning: 4.910675521864828\n",
      "Estimated proportion of families with family planning: 0.3559980862612275\n",
      "Estimated proportion of families without family planning: 0.6440019137387726\n"
     ]
    }
   ],
   "source": [
    "print(f\"Estimated mean number of children for families with family planning: {mu_1_new}\")\n",
    "print(f\"Estimated mean number of children for families without family planning: {mu_2_new}\")\n",
    "print(f\"Estimated proportion of families with family planning: {pi_1_new}\")\n",
    "print(f\"Estimated proportion of families without family planning: {pi_2_new}\")"
   ]
  }
 ],
 "metadata": {
  "kernelspec": {
   "display_name": "my_venv",
   "language": "python",
   "name": "python3"
  },
  "language_info": {
   "codemirror_mode": {
    "name": "ipython",
    "version": 3
   },
   "file_extension": ".py",
   "mimetype": "text/x-python",
   "name": "python",
   "nbconvert_exporter": "python",
   "pygments_lexer": "ipython3",
   "version": "3.12.4"
  }
 },
 "nbformat": 4,
 "nbformat_minor": 2
}
